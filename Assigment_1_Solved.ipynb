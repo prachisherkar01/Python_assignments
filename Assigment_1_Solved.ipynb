{
 "cells": [
  {
   "cell_type": "raw",
   "id": "cb1f3a86",
   "metadata": {},
   "source": [
    "1. In the below elements which of them are values or an expression? eg:- values can be integer or string and expressions will be mathematical operators.\n",
    "* \n",
    "'hello'\n",
    "-87.8\n",
    "- \n",
    "/ \n",
    "+\t\n",
    "6 \n",
    "\n",
    "->\n",
    "Values -> ''hello',-87.8,6\n",
    "Expressions -> *,-,/,+ "
   ]
  },
  {
   "cell_type": "raw",
   "id": "e4e7f9b5",
   "metadata": {},
   "source": [
    "2. What is the difference between string and variable?\n",
    "-> Strings are written in \"\" or '', on which no mathematical operation is performed directly, and it is assigned to a variable.\n",
    "-> Variables can be manipulated by assigning strings , integer or any data type.\n",
    "-> + operater adds two integers which are assigned to variables, but at same point it concatenates striungs which are assigned to variable."
   ]
  },
  {
   "cell_type": "raw",
   "id": "5f08c69b",
   "metadata": {},
   "source": [
    "3. Describe three different data types\n",
    "->\n",
    "1. int = Store any numeric value , whether it's positive negative or 0 .\n",
    "2. float = Store any decimal value upto 2 digits after decimal point .\n",
    "3. boolean = Boolean data type either gives value True or False as output of any condition."
   ]
  },
  {
   "cell_type": "raw",
   "id": "787485f7",
   "metadata": {},
   "source": [
    "4. What is an expression made up of? What do all expressions do?\n",
    "->\n",
    "Expressions are made of operators, variables , numbers and they provide desired value after mathematical operations are performed on them according to precedence."
   ]
  },
  {
   "cell_type": "raw",
   "id": "3124caf7",
   "metadata": {},
   "source": [
    "5. This assignment statements, like spam = 10. What is the difference between an expression and a statement?\n",
    "->\n",
    "Expressions - Expressions are combination of operator, functions and operands they return value after operation is performed on them by compiler.\n",
    "Statements - In statements there are values which are assigned to any variable or definition which doesn't return anything."
   ]
  },
  {
   "cell_type": "raw",
   "id": "0b9fa46c",
   "metadata": {},
   "source": [
    "6. After running the following code, what does the variable bacon contain?\n",
    "->->It will perform addition and will store 23 "
   ]
  },
  {
   "cell_type": "code",
   "execution_count": 2,
   "id": "08e27f67",
   "metadata": {},
   "outputs": [
    {
     "data": {
      "text/plain": [
       "23"
      ]
     },
     "execution_count": 2,
     "metadata": {},
     "output_type": "execute_result"
    }
   ],
   "source": [
    "bacon = 22\n",
    "bacon + 1"
   ]
  },
  {
   "cell_type": "raw",
   "id": "6b75ff74",
   "metadata": {},
   "source": [
    "7. What should the values of the following two terms be?\n",
    "-> Both will be same because of concatenation and *3 operation."
   ]
  },
  {
   "cell_type": "code",
   "execution_count": 6,
   "id": "ba4c551e",
   "metadata": {},
   "outputs": [
    {
     "data": {
      "text/plain": [
       "'spamspamspam'"
      ]
     },
     "execution_count": 6,
     "metadata": {},
     "output_type": "execute_result"
    }
   ],
   "source": [
    "'spam' + 'spamspam'"
   ]
  },
  {
   "cell_type": "code",
   "execution_count": 7,
   "id": "95b10046",
   "metadata": {},
   "outputs": [
    {
     "data": {
      "text/plain": [
       "'spamspamspam'"
      ]
     },
     "execution_count": 7,
     "metadata": {},
     "output_type": "execute_result"
    }
   ],
   "source": [
    "'spam' * 3"
   ]
  },
  {
   "cell_type": "raw",
   "id": "26f59923",
   "metadata": {},
   "source": [
    "8. Why is eggs a valid variable name while 100 is invalid?\n",
    "-> 100 is integer and variable name can't be integer as integer can't be stored or assigned to integer, though varible can be combination of alphanumeric."
   ]
  },
  {
   "cell_type": "raw",
   "id": "7eade444",
   "metadata": {},
   "source": [
    "9. What three functions can be used to get the integer, floating-point number, or string version of a value?\n",
    "-> Functions are:\n",
    "   int()\n",
    "   float()\n",
    "   str()\n",
    "   respectively."
   ]
  },
  {
   "cell_type": "raw",
   "id": "7d3635ae",
   "metadata": {},
   "source": [
    "10. Why does this expression cause an error? How can you fix it?"
   ]
  },
  {
   "cell_type": "code",
   "execution_count": 8,
   "id": "5ca8f829",
   "metadata": {},
   "outputs": [
    {
     "ename": "TypeError",
     "evalue": "can only concatenate str (not \"int\") to str",
     "output_type": "error",
     "traceback": [
      "\u001b[1;31m---------------------------------------------------------------------------\u001b[0m",
      "\u001b[1;31mTypeError\u001b[0m                                 Traceback (most recent call last)",
      "Input \u001b[1;32mIn [8]\u001b[0m, in \u001b[0;36m<cell line: 1>\u001b[1;34m()\u001b[0m\n\u001b[1;32m----> 1\u001b[0m \u001b[38;5;124;43m'\u001b[39;49m\u001b[38;5;124;43mI have eaten \u001b[39;49m\u001b[38;5;124;43m'\u001b[39;49m\u001b[43m \u001b[49m\u001b[38;5;241;43m+\u001b[39;49m\u001b[43m \u001b[49m\u001b[38;5;241;43m99\u001b[39;49m \u001b[38;5;241m+\u001b[39m \u001b[38;5;124m'\u001b[39m\u001b[38;5;124m burritos.\u001b[39m\u001b[38;5;124m'\u001b[39m\n",
      "\u001b[1;31mTypeError\u001b[0m: can only concatenate str (not \"int\") to str"
     ]
    }
   ],
   "source": [
    "'I have eaten ' + 99 + ' burritos.'"
   ]
  },
  {
   "cell_type": "raw",
   "id": "871f910a",
   "metadata": {},
   "source": [
    "As error says it can only concatenate str (not \"int\") to str, this can be fixed by typecasting int type to string type as given below."
   ]
  },
  {
   "cell_type": "code",
   "execution_count": 9,
   "id": "ae039b44",
   "metadata": {},
   "outputs": [
    {
     "data": {
      "text/plain": [
       "'I have eaten 99 burritos.'"
      ]
     },
     "execution_count": 9,
     "metadata": {},
     "output_type": "execute_result"
    }
   ],
   "source": [
    "'I have eaten ' + str(99) + ' burritos.'"
   ]
  }
 ],
 "metadata": {
  "kernelspec": {
   "display_name": "Python 3 (ipykernel)",
   "language": "python",
   "name": "python3"
  },
  "language_info": {
   "codemirror_mode": {
    "name": "ipython",
    "version": 3
   },
   "file_extension": ".py",
   "mimetype": "text/x-python",
   "name": "python",
   "nbconvert_exporter": "python",
   "pygments_lexer": "ipython3",
   "version": "3.9.12"
  }
 },
 "nbformat": 4,
 "nbformat_minor": 5
}
